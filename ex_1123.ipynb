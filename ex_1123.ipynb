{
  "nbformat": 4,
  "nbformat_minor": 0,
  "metadata": {
    "colab": {
      "name": "ex_1123.ipynb의 사본의 사본",
      "version": "0.3.2",
      "provenance": [],
      "collapsed_sections": [],
      "include_colab_link": true
    },
    "kernelspec": {
      "name": "python3",
      "display_name": "Python 3"
    }
  },
  "cells": [
    {
      "cell_type": "markdown",
      "metadata": {
        "id": "view-in-github",
        "colab_type": "text"
      },
      "source": [
        "<a href=\"https://colab.research.google.com/github/NAM-IL/AI_Research/blob/master/ex_1123.ipynb\" target=\"_parent\"><img src=\"https://colab.research.google.com/assets/colab-badge.svg\" alt=\"Open In Colab\"/></a>"
      ]
    },
    {
      "metadata": {
        "id": "Fz3EjT40zU9Y",
        "colab_type": "text"
      },
      "cell_type": "markdown",
      "source": [
        "# 11월 23일(금) 실습"
      ]
    },
    {
      "metadata": {
        "id": "5J7iXyFr7ZSA",
        "colab_type": "text"
      },
      "cell_type": "markdown",
      "source": [
        "[Startup - Multiple Linear Regression](https://www.kaggle.com/giripriyanka/step-1-fitting-model-with-all-the-predictors/data)\n",
        "Machine Learning A - Z\n",
        "\n",
        "[Predicting a Startups Profit/Success Rate using Multiple Linear Regression in Python](https://medium.com/coinmonks/predicting-a-startups-profit-success-rate-using-multiple-linear-regression-in-python-3ceb91650b24)"
      ]
    },
    {
      "metadata": {
        "id": "nVtq0v517Odo",
        "colab_type": "text"
      },
      "cell_type": "markdown",
      "source": [
        ""
      ]
    },
    {
      "metadata": {
        "id": "ClrRU_sqzSls",
        "colab_type": "code",
        "colab": {
          "base_uri": "https://localhost:8080/",
          "height": 164
        },
        "outputId": "7cf97e3f-b255-434e-e509-752e4cc1865a"
      },
      "cell_type": "code",
      "source": [
        "안녕하세요"
      ],
      "execution_count": 23,
      "outputs": [
        {
          "output_type": "error",
          "ename": "NameError",
          "evalue": "ignored",
          "traceback": [
            "\u001b[0;31m---------------------------------------------------------------------------\u001b[0m",
            "\u001b[0;31mNameError\u001b[0m                                 Traceback (most recent call last)",
            "\u001b[0;32m<ipython-input-23-041a565a82b3>\u001b[0m in \u001b[0;36m<module>\u001b[0;34m()\u001b[0m\n\u001b[0;32m----> 1\u001b[0;31m \u001b[0m안녕하세요\u001b[0m\u001b[0;34m\u001b[0m\u001b[0;34m\u001b[0m\u001b[0m\n\u001b[0m",
            "\u001b[0;31mNameError\u001b[0m: name '안녕하세요' is not defined"
          ]
        }
      ]
    },
    {
      "metadata": {
        "id": "deOKwIynXWt4",
        "colab_type": "code",
        "outputId": "237e17a6-71ee-450e-daf7-be4b46bd6424",
        "colab": {
          "base_uri": "https://localhost:8080/",
          "height": 34
        }
      },
      "cell_type": "code",
      "source": [
        "print('안녕하세요!')\n"
      ],
      "execution_count": 24,
      "outputs": [
        {
          "output_type": "stream",
          "text": [
            "안녕하세요!\n"
          ],
          "name": "stdout"
        }
      ]
    },
    {
      "metadata": {
        "id": "5B8m1c6tYeq3",
        "colab_type": "code",
        "colab": {}
      },
      "cell_type": "code",
      "source": [
        "import tensorflow as tf\n",
        "import numpy as np\n",
        "import pandas as pd\n",
        "from sklearn.preprocessing import MinMaxScaler\n",
        "\n",
        "\n",
        "tf.set_random_seed(777)  # for reproducibility\n"
      ],
      "execution_count": 0,
      "outputs": []
    },
    {
      "metadata": {
        "id": "Z1mmcKVvYfrI",
        "colab_type": "code",
        "colab": {}
      },
      "cell_type": "code",
      "source": [
        "path  = '50_Startups.csv';\n",
        "df = pd.read_csv(path);\n",
        "# print(df)\n"
      ],
      "execution_count": 0,
      "outputs": []
    },
    {
      "metadata": {
        "id": "uK4XjkFHbSIR",
        "colab_type": "code",
        "colab": {}
      },
      "cell_type": "code",
      "source": [
        "path  = '50_Startups.csv';\n",
        "df = pd.read_csv(path, header=None);\n",
        "\n",
        "# print(df.shape)\n",
        "X = df.iloc[1:, 0:-1]\n",
        "Y = df.iloc[1:, -1]\n",
        "# print('X : {0}'.format(X));\n",
        "# print('Y : {0}'.format(Y));"
      ],
      "execution_count": 0,
      "outputs": []
    },
    {
      "metadata": {
        "id": "cM0PTVS4hEMN",
        "colab_type": "code",
        "colab": {}
      },
      "cell_type": "code",
      "source": [
        "path  = '50_Startups.csv';\n",
        "df = pd.read_csv(path, header=0);\n",
        "\n",
        "scaler = MinMaxScaler();\n",
        "X_data =  pd.get_dummies(df.iloc[:, :-1]);\n",
        "Y_data = df.iloc[:, -1];\n",
        "Y_data = Y_data.values.reshape((-1, 1));\n",
        "\n",
        "scaler.fit(X_data)\n",
        "X_data = scaler.transform(X_data);\n",
        "scaler.fit(Y_data)\n",
        "Y_data = scaler.transform(Y_data);\n",
        "\n",
        "# print(scaler.fit(X_data))\n",
        "# print(scaler.transform(X_data))\n",
        "# print(scaler.fit(data))\n",
        "# print('X : {0}'.format(X_data));\n",
        "# print('Y : {0}'.format(Y_data));"
      ],
      "execution_count": 0,
      "outputs": []
    },
    {
      "metadata": {
        "id": "y6nwwpiAkHJQ",
        "colab_type": "code",
        "outputId": "af1514ed-0a51-4103-8601-b808813b7e8a",
        "colab": {
          "base_uri": "https://localhost:8080/",
          "height": 51
        }
      },
      "cell_type": "code",
      "source": [
        "print('X_data shape : {0}'.format(X_data.shape));\n",
        "print('Y_data shape : {0}'.format(Y_data.shape));"
      ],
      "execution_count": 29,
      "outputs": [
        {
          "output_type": "stream",
          "text": [
            "X_data shape : (50, 6)\n",
            "Y_data shape : (50, 1)\n"
          ],
          "name": "stdout"
        }
      ]
    },
    {
      "metadata": {
        "id": "z-i0upFvbP40",
        "colab_type": "code",
        "colab": {}
      },
      "cell_type": "code",
      "source": [
        "\n",
        "\n",
        "X = tf.placeholder(tf.float32, shape=[None, 6]);\n",
        "Y = tf.placeholder(tf.float32, shape=[None, 1]);\n",
        "\n",
        "W = tf.Variable(tf.random_normal([6, 1]), name='weight');\n",
        "b = tf.Variable(tf.random_normal([1]), name='bias');"
      ],
      "execution_count": 0,
      "outputs": []
    },
    {
      "metadata": {
        "id": "yburzOTylGFZ",
        "colab_type": "code",
        "outputId": "eb02417f-6f33-4a9d-87f7-1452c4fe31c4",
        "colab": {
          "base_uri": "https://localhost:8080/",
          "height": 2601
        }
      },
      "cell_type": "code",
      "source": [
        "# Hypothesis using sigmoid: tf.div(1., 1. + tf.exp(-tf.matmul(X, W)))\n",
        "hypothesis = tf.sigmoid(tf.matmul(X, W) + b)\n",
        "\n",
        "# cost/loss function\n",
        "cost = -tf.reduce_mean(Y * tf.log(hypothesis) + (1 - Y) * tf.log(1 - hypothesis))\n",
        "cross_entropy = -tf.reduce_sum(hypothesis*tf.log(Y + 1e-10));\n",
        "\n",
        "train1 = tf.train.GradientDescentOptimizer(learning_rate=0.01).minimize(cost)\n",
        "train2 = tf.train.GradientDescentOptimizer(learning_rate=0.01).minimize(cross_entropy)\n",
        "\n",
        "# Accuracy computation\n",
        "# True if hypothesis>0.5 else False\n",
        "predicted = tf.cast(hypothesis > 0.5, dtype=tf.float32)\n",
        "accuracy = tf.reduce_mean(tf.cast(tf.equal(predicted, Y), dtype=tf.float32))\n",
        "\n",
        "# Launch graph\n",
        "with tf.Session() as sess:\n",
        "    # Initialize TensorFlow variables\n",
        "    sess.run(tf.global_variables_initializer())\n",
        "\n",
        "    for step in range(5000):\n",
        "        cost_val_1, cost_val_2, _ = sess.run([cost, cross_entropy, train], feed_dict={X: X_data, Y: Y_data})\n",
        "        if step % 100 == 0:\n",
        "          print('step[{0}] - cost: {1} , cross_entropy : {2}'.format(step, cost_val_1, cost_val_2));\n",
        "\n",
        "    # Accuracy report\n",
        "    h, c, a = sess.run([hypothesis, predicted, accuracy],\n",
        "                       feed_dict={X: X_data, Y: Y_data})\n",
        "    print(\"\\nHypothesis: \", h, \"\\nCorrect (Y): \", c, \"\\nAccuracy: \", a)\n"
      ],
      "execution_count": 46,
      "outputs": [
        {
          "output_type": "stream",
          "text": [
            "step[0] - cost: 0.8053856492042542 , cross_entropy : 29.483394622802734\n",
            "step[100] - cost: 2.8201639652252197 , cross_entropy : 0.7029467821121216\n",
            "step[200] - cost: 3.2615363597869873 , cross_entropy : 0.3377445340156555\n",
            "step[300] - cost: 3.5146422386169434 , cross_entropy : 0.2218758761882782\n",
            "step[400] - cost: 3.692528486251831 , cross_entropy : 0.16515716910362244\n",
            "step[500] - cost: 3.829728603363037 , cross_entropy : 0.13153216242790222\n",
            "step[600] - cost: 3.941406488418579 , cross_entropy : 0.10928846895694733\n",
            "step[700] - cost: 4.035573959350586 , cross_entropy : 0.0934855118393898\n",
            "step[800] - cost: 4.116978168487549 , cross_entropy : 0.08168016374111176\n",
            "step[900] - cost: 4.1886677742004395 , cross_entropy : 0.07252590358257294\n",
            "step[1000] - cost: 4.252713680267334 , cross_entropy : 0.06521978229284286\n",
            "step[1100] - cost: 4.3105878829956055 , cross_entropy : 0.05925345793366432\n",
            "step[1200] - cost: 4.363376617431641 , cross_entropy : 0.05428927019238472\n",
            "step[1300] - cost: 4.411901473999023 , cross_entropy : 0.05009409785270691\n",
            "step[1400] - cost: 4.456800937652588 , cross_entropy : 0.04650206118822098\n",
            "step[1500] - cost: 4.498577117919922 , cross_entropy : 0.04339178279042244\n",
            "step[1600] - cost: 4.537637710571289 , cross_entropy : 0.04067235440015793\n",
            "step[1700] - cost: 4.574314117431641 , cross_entropy : 0.03827449679374695\n",
            "step[1800] - cost: 4.608880519866943 , cross_entropy : 0.03614426031708717\n",
            "step[1900] - cost: 4.641565799713135 , cross_entropy : 0.03423921391367912\n",
            "step[2000] - cost: 4.672565460205078 , cross_entropy : 0.03252539038658142\n",
            "step[2100] - cost: 4.702043533325195 , cross_entropy : 0.030975397676229477\n",
            "step[2200] - cost: 4.7301435470581055 , cross_entropy : 0.029566768556833267\n",
            "step[2300] - cost: 4.756988048553467 , cross_entropy : 0.028281014412641525\n",
            "step[2400] - cost: 4.78268575668335 , cross_entropy : 0.02710268273949623\n",
            "step[2500] - cost: 4.807329177856445 , cross_entropy : 0.026018891483545303\n",
            "step[2600] - cost: 4.8310017585754395 , cross_entropy : 0.025018665939569473\n",
            "step[2700] - cost: 4.853776931762695 , cross_entropy : 0.02409268543124199\n",
            "step[2800] - cost: 4.875720024108887 , cross_entropy : 0.023233018815517426\n",
            "step[2900] - cost: 4.896890163421631 , cross_entropy : 0.02243274450302124\n",
            "step[3000] - cost: 4.917340278625488 , cross_entropy : 0.02168591320514679\n",
            "step[3100] - cost: 4.937117099761963 , cross_entropy : 0.02098734676837921\n",
            "step[3200] - cost: 4.956264495849609 , cross_entropy : 0.020332492887973785\n",
            "step[3300] - cost: 4.974820613861084 , cross_entropy : 0.01971738412976265\n",
            "step[3400] - cost: 4.992821216583252 , cross_entropy : 0.01913849264383316\n",
            "step[3500] - cost: 5.010298728942871 , cross_entropy : 0.018592718988656998\n",
            "step[3600] - cost: 5.027281284332275 , cross_entropy : 0.018077298998832703\n",
            "step[3700] - cost: 5.043798923492432 , cross_entropy : 0.01758974976837635\n",
            "step[3800] - cost: 5.059874057769775 , cross_entropy : 0.017127886414527893\n",
            "step[3900] - cost: 5.075530052185059 , cross_entropy : 0.016689743846654892\n",
            "step[4000] - cost: 5.090788841247559 , cross_entropy : 0.01627352088689804\n",
            "step[4100] - cost: 5.105669975280762 , cross_entropy : 0.01587759330868721\n",
            "step[4200] - cost: 5.12019157409668 , cross_entropy : 0.015500538051128387\n",
            "step[4300] - cost: 5.134370803833008 , cross_entropy : 0.01514102891087532\n",
            "step[4400] - cost: 5.148223400115967 , cross_entropy : 0.014797880314290524\n",
            "step[4500] - cost: 5.1617631912231445 , cross_entropy : 0.014469964429736137\n",
            "step[4600] - cost: 5.1750054359436035 , cross_entropy : 0.01415631640702486\n",
            "step[4700] - cost: 5.187963485717773 , cross_entropy : 0.013856001198291779\n",
            "step[4800] - cost: 5.20064640045166 , cross_entropy : 0.013568214140832424\n",
            "step[4900] - cost: 5.213068008422852 , cross_entropy : 0.013292168267071247\n",
            "\n",
            "Hypothesis:  [[1.98922025e-05]\n",
            " [4.90633965e-06]\n",
            " [5.81033528e-05]\n",
            " [3.95202987e-05]\n",
            " [8.33752638e-05]\n",
            " [6.35286706e-05]\n",
            " [1.22138572e-05]\n",
            " [4.97571746e-05]\n",
            " [4.09849999e-05]\n",
            " [1.92405769e-05]\n",
            " [1.40244025e-04]\n",
            " [3.67310240e-05]\n",
            " [1.21781923e-04]\n",
            " [2.27083601e-05]\n",
            " [5.46858755e-05]\n",
            " [6.89419248e-05]\n",
            " [3.33214593e-05]\n",
            " [6.58658391e-05]\n",
            " [1.41599186e-04]\n",
            " [9.80553523e-05]\n",
            " [3.62945284e-05]\n",
            " [7.25575956e-05]\n",
            " [1.61611446e-04]\n",
            " [2.24717427e-04]\n",
            " [1.96437031e-04]\n",
            " [3.77477336e-05]\n",
            " [1.49137399e-04]\n",
            " [1.05858526e-04]\n",
            " [1.02616796e-04]\n",
            " [1.15787880e-04]\n",
            " [2.86221941e-04]\n",
            " [1.27593725e-04]\n",
            " [5.04197742e-05]\n",
            " [3.16005491e-04]\n",
            " [3.47674177e-05]\n",
            " [3.46195011e-04]\n",
            " [3.43663647e-04]\n",
            " [1.60263167e-04]\n",
            " [6.79634919e-04]\n",
            " [1.15585121e-04]\n",
            " [8.19169072e-05]\n",
            " [6.57451863e-04]\n",
            " [1.24665021e-04]\n",
            " [3.83316306e-04]\n",
            " [6.67947606e-05]\n",
            " [5.20702859e-04]\n",
            " [5.26947260e-04]\n",
            " [1.26230356e-04]\n",
            " [1.43205503e-03]\n",
            " [1.53056448e-04]] \n",
            "Correct (Y):  [[0.]\n",
            " [0.]\n",
            " [0.]\n",
            " [0.]\n",
            " [0.]\n",
            " [0.]\n",
            " [0.]\n",
            " [0.]\n",
            " [0.]\n",
            " [0.]\n",
            " [0.]\n",
            " [0.]\n",
            " [0.]\n",
            " [0.]\n",
            " [0.]\n",
            " [0.]\n",
            " [0.]\n",
            " [0.]\n",
            " [0.]\n",
            " [0.]\n",
            " [0.]\n",
            " [0.]\n",
            " [0.]\n",
            " [0.]\n",
            " [0.]\n",
            " [0.]\n",
            " [0.]\n",
            " [0.]\n",
            " [0.]\n",
            " [0.]\n",
            " [0.]\n",
            " [0.]\n",
            " [0.]\n",
            " [0.]\n",
            " [0.]\n",
            " [0.]\n",
            " [0.]\n",
            " [0.]\n",
            " [0.]\n",
            " [0.]\n",
            " [0.]\n",
            " [0.]\n",
            " [0.]\n",
            " [0.]\n",
            " [0.]\n",
            " [0.]\n",
            " [0.]\n",
            " [0.]\n",
            " [0.]\n",
            " [0.]] \n",
            "Accuracy:  0.02\n"
          ],
          "name": "stdout"
        }
      ]
    }
  ]
}